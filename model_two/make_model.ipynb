{
 "cells": [
  {
   "cell_type": "code",
   "execution_count": 52,
   "metadata": {},
   "outputs": [
    {
     "name": "stdout",
     "output_type": "stream",
     "text": [
      "OpenCV 4.5.4\n",
      "numpy 1.20.1\n",
      "pandas 1.2.4\n",
      "Pyautogui 0.9.53\n",
      "Scikit-learn 0.24.1\n"
     ]
    }
   ],
   "source": [
    "# import\n",
    "import cv2\n",
    "import pickle\n",
    "import math\n",
    "import sklearn\n",
    "import numpy as np\n",
    "import pandas as pd\n",
    "import seaborn as sns\n",
    "import pyautogui as pg\n",
    "\n",
    "from time import time, sleep\n",
    "from tqdm import tqdm\n",
    "from glob import glob\n",
    "from pprint import pprint\n",
    "from sklearn.linear_model import LogisticRegression\n",
    "from sklearn.neural_network import MLPRegressor\n",
    "from sklearn.metrics import confusion_matrix, classification_report\n",
    "from sklearn.model_selection import train_test_split\n",
    "from threading import Thread\n",
    "from matplotlib import pyplot as plt\n",
    "from line_profiler import LineProfiler\n",
    "\n",
    "print(\"OpenCV\", cv2.__version__)\n",
    "print(\"numpy\", np.__version__)\n",
    "print(\"pandas\", pd.__version__)\n",
    "print(\"Pyautogui\", pg.__version__)\n",
    "print(\"Scikit-learn\", sklearn.__version__)\n",
    "\n",
    "\n",
    "def SaveInstances(instance, path):\n",
    "    '''\n",
    "    PickleモジュールのWrapper\n",
    "    instanceのオブジェクトをpathで指定したファイルパスに保存する。\n",
    "    '''\n",
    "    with open(path, mode='wb') as file:\n",
    "        pickle.dump(instance, file, protocol=2)\n",
    "\n",
    "\n",
    "def LoadInstances(path):\n",
    "    '''\n",
    "    PickleモジュールのWrapper\n",
    "    pathに保存されているpickle形式のファイルをオブジェクトとして読み込む。\n",
    "    '''\n",
    "    with open(path, 'rb') as ins:\n",
    "        return pickle.load(ins)\n"
   ]
  },
  {
   "cell_type": "code",
   "execution_count": 53,
   "metadata": {},
   "outputs": [],
   "source": [
    "# assets\n",
    "\n",
    "class Samples_container:\n",
    "    imgs_real_part = glob(\"C:/Users/Haya/OneDrive/DevlopingProjects/RoboCup_Cam/Assets/real/part/*.jpg\")\n",
    "    imgs_color_black = glob(\"C:/Users/Haya/OneDrive/DevlopingProjects/RoboCup_Cam/Assets/real/color/black/*.jpg\")\n",
    "    imgs_color_white = glob(\"C:/Users/Haya/OneDrive/DevlopingProjects/RoboCup_Cam/Assets/real/color/white/*.jpg\")\n",
    "    imgs_color_green = glob(\"C:/Users/Haya/OneDrive/DevlopingProjects/RoboCup_Cam/Assets/real/color/green/*.jpg\")\n",
    "    imgs_color_red = glob(\"C:/Users/Haya/OneDrive/DevlopingProjects/RoboCup_Cam/Assets/real/color/red/*.jpg\")\n",
    "\n",
    "\n",
    "samples = Samples_container()\n"
   ]
  },
  {
   "cell_type": "code",
   "execution_count": 54,
   "metadata": {},
   "outputs": [
    {
     "name": "stdout",
     "output_type": "stream",
     "text": [
      "black: 691,200pixels\n",
      "[[3 3 3 1]\n",
      " [3 3 3 1]]\n",
      "green: 460,800pixels\n",
      "[[27 89 11  2]\n",
      " [29 91 13  2]]\n",
      "white: 460,800pixels\n",
      "[[153 173 184   3]\n",
      " [155 175 186   3]]\n",
      "red: 230,400pixels\n",
      "[[ 16  27 149   4]\n",
      " [ 19  30 152   4]]\n"
     ]
    }
   ],
   "source": [
    "# prepare samples of color\n",
    "\n",
    "def prepare_bgr(paths, code):\n",
    "    temp = np.reshape([[[[\n",
    "        [pixel for pixel in line]\n",
    "        for line in frame]\n",
    "        for frame in cv2.resize(cv2.imread(path), (640, 360))]\n",
    "    ]for path in paths\n",
    "    ], newshape=(-1, 3)\n",
    "    ).astype(np.int64)\n",
    "    temp_code = np.ones(len(temp)) * code\n",
    "    return np.insert(temp, 3, temp_code, axis=1)\n",
    "\n",
    "\n",
    "color_black = prepare_bgr(samples.imgs_color_black, 1)\n",
    "color_green = prepare_bgr(samples.imgs_color_green, 2)\n",
    "color_white = prepare_bgr(samples.imgs_color_white, 3)\n",
    "color_red = prepare_bgr(samples.imgs_color_red, 4)\n",
    "\n",
    "color_all = np.concatenate([\n",
    "    color_black,\n",
    "    color_green,\n",
    "    color_white,\n",
    "    color_red,\n",
    "])\n",
    "\n",
    "print(\"black: {:,}pixels\".format(len(color_black)))\n",
    "print(color_black[:2])\n",
    "print(\"green: {:,}pixels\".format(len(color_green)))\n",
    "print(color_green[:2])\n",
    "print(\"white: {:,}pixels\".format(len(color_white)))\n",
    "print(color_white[:2])\n",
    "print(\"red: {:,}pixels\".format(len(color_red)))\n",
    "print(color_red[:2])\n"
   ]
  },
  {
   "cell_type": "code",
   "execution_count": 55,
   "metadata": {},
   "outputs": [
    {
     "name": "stderr",
     "output_type": "stream",
     "text": [
      "C:\\Users\\Haya\\anaconda3\\lib\\site-packages\\sklearn\\utils\\validation.py:63: DataConversionWarning: A column-vector y was passed when a 1d array was expected. Please change the shape of y to (n_samples, ), for example using ravel().\n",
      "  return f(*args, **kwargs)\n",
      "C:\\Users\\Haya\\anaconda3\\lib\\site-packages\\sklearn\\linear_model\\_logistic.py:763: ConvergenceWarning: lbfgs failed to converge (status=1):\n",
      "STOP: TOTAL NO. of ITERATIONS REACHED LIMIT.\n",
      "\n",
      "Increase the number of iterations (max_iter) or scale the data as shown in:\n",
      "    https://scikit-learn.org/stable/modules/preprocessing.html\n",
      "Please also refer to the documentation for alternative solver options:\n",
      "    https://scikit-learn.org/stable/modules/linear_model.html#logistic-regression\n",
      "  n_iter_i = _check_optimize_result(\n"
     ]
    }
   ],
   "source": [
    "# color recognizing model\n",
    "\n",
    "X_train, X_test, y_train, y_test = train_test_split(\n",
    "    color_all[:, :-1],\n",
    "    color_all[:, -1:],\n",
    "    stratify=color_all[:, -1:],  # テストに使うデータを階層化する\n",
    "    test_size=0.3,  # テストに使う割合\n",
    ")\n",
    "\n",
    "col_model = LogisticRegression().fit(X_train, y_train)\n"
   ]
  },
  {
   "cell_type": "code",
   "execution_count": 56,
   "metadata": {},
   "outputs": [
    {
     "data": {
      "image/png": "[encoded data removed]",
      "text/plain": [
       "<Figure size 432x288 with 2 Axes>"
      ]
     },
     "metadata": {
      "needs_background": "light"
     },
     "output_type": "display_data"
    },
    {
     "name": "stdout",
     "output_type": "stream",
     "text": [
      "              precision    recall  f1-score   support\n",
      "\n",
      "           1       1.00      1.00      1.00    207360\n",
      "           2       1.00      1.00      1.00    138240\n",
      "           3       1.00      1.00      1.00    138240\n",
      "           4       1.00      1.00      1.00     69120\n",
      "\n",
      "    accuracy                           1.00    552960\n",
      "   macro avg       1.00      1.00      1.00    552960\n",
      "weighted avg       1.00      1.00      1.00    552960\n",
      "\n"
     ]
    }
   ],
   "source": [
    "# color recognizing model\n",
    "\n",
    "y_pred = col_model.predict(X_test)\n",
    "cm = confusion_matrix(y_test, y_pred)\n",
    "ax = sns.heatmap(cm, annot=True, cmap='Blues', linewidth=0.3)\n",
    "ax.set_xlabel(\"Predicted\", fontsize=20)\n",
    "ax.set_ylabel(\"Accrual\", fontsize=20)\n",
    "plt.show()\n",
    "\n",
    "print(classification_report(y_test, y_pred))\n"
   ]
  },
  {
   "cell_type": "code",
   "execution_count": 57,
   "metadata": {},
   "outputs": [
    {
     "ename": "NameError",
     "evalue": "name 'hoge' is not defined",
     "output_type": "error",
     "traceback": [
      "\u001b[1;31m---------------------------------------------------------------------------\u001b[0m",
      "\u001b[1;31mNameError\u001b[0m                                 Traceback (most recent call last)",
      "\u001b[1;32m~\\AppData\\Local\\Temp/ipykernel_16292/91567683.py\u001b[0m in \u001b[0;36m<module>\u001b[1;34m\u001b[0m\n\u001b[0;32m      2\u001b[0m \u001b[1;33m\u001b[0m\u001b[0m\n\u001b[0;32m      3\u001b[0m X_train, X_test, y_train, y_test = train_test_split(\n\u001b[1;32m----> 4\u001b[1;33m     \u001b[0mhoge\u001b[0m\u001b[1;33m[\u001b[0m\u001b[1;33m:\u001b[0m\u001b[1;33m,\u001b[0m \u001b[1;33m:\u001b[0m\u001b[1;33m-\u001b[0m\u001b[1;36m1\u001b[0m\u001b[1;33m]\u001b[0m\u001b[1;33m,\u001b[0m\u001b[1;33m\u001b[0m\u001b[1;33m\u001b[0m\u001b[0m\n\u001b[0m\u001b[0;32m      5\u001b[0m     \u001b[0mhoge\u001b[0m\u001b[1;33m[\u001b[0m\u001b[1;33m:\u001b[0m\u001b[1;33m,\u001b[0m \u001b[1;33m-\u001b[0m\u001b[1;36m1\u001b[0m\u001b[1;33m:\u001b[0m\u001b[1;33m]\u001b[0m\u001b[1;33m,\u001b[0m\u001b[1;33m\u001b[0m\u001b[1;33m\u001b[0m\u001b[0m\n\u001b[0;32m      6\u001b[0m     \u001b[0mstratify\u001b[0m\u001b[1;33m=\u001b[0m\u001b[0mhoge\u001b[0m\u001b[1;33m[\u001b[0m\u001b[1;33m:\u001b[0m\u001b[1;33m,\u001b[0m \u001b[1;33m-\u001b[0m\u001b[1;36m1\u001b[0m\u001b[1;33m:\u001b[0m\u001b[1;33m]\u001b[0m\u001b[1;33m,\u001b[0m  \u001b[1;31m# テストに使うデータを階層化する\u001b[0m\u001b[1;33m\u001b[0m\u001b[1;33m\u001b[0m\u001b[0m\n",
      "\u001b[1;31mNameError\u001b[0m: name 'hoge' is not defined"
     ]
    }
   ],
   "source": [
    "# act decision maker\n",
    "\n",
    "X_train, X_test, y_train, y_test = train_test_split(\n",
    "    hoge[:, :-1],\n",
    "    hoge[:, -1:],\n",
    "    stratify=hoge[:, -1:],  # テストに使うデータを階層化する\n",
    "    test_size=0.3,  # テストに使う割合\n",
    ")\n",
    "\n",
    "act_model = MLPRegressor(\n",
    "    hidden_layer_sizes=(4096, 1024, 256, 64, 16)\n",
    ").fit(\n",
    "\n",
    ")\n",
    "\n",
    "y_pred = act_model.predict(X_test)\n",
    "\n",
    "cm = confusion_matrix(y_test, y_pred)\n",
    "ax = sns.heatmap(cm, annot=True, cmap='Blues', linewidth=0.3)\n",
    "ax.set_xlabel(\"Predicted\", fontsize=20)\n",
    "ax.set_ylabel(\"Accrual\", fontsize=20)\n",
    "plt.show()\n",
    "\n",
    "print(classification_report(y_test, y_pred))\n"
   ]
  },
  {
   "cell_type": "code",
   "execution_count": null,
   "metadata": {},
   "outputs": [],
   "source": []
  }
 ],
 "metadata": {
  "interpreter": {
   "hash": "57baa5815c940fdaff4d14510622de9616cae602444507ba5d0b6727c008cbd6"
  },
  "kernelspec": {
   "display_name": "Python 3.7.8 64-bit",
   "language": "python",
   "name": "python3"
  },
  "language_info": {
   "codemirror_mode": {
    "name": "ipython",
    "version": 3
   },
   "file_extension": ".py",
   "mimetype": "text/x-python",
   "name": "python",
   "nbconvert_exporter": "python",
   "pygments_lexer": "ipython3",
   "version": "3.8.8"
  },
  "orig_nbformat": 4
 },
 "nbformat": 4,
 "nbformat_minor": 2
}
