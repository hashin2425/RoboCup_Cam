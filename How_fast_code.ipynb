{
 "cells": [
  {
   "cell_type": "markdown",
   "metadata": {},
   "source": [
    "https://qiita.com/ryo_naka/items/6d6a575d0c47bb792f71\n"
   ]
  },
  {
   "cell_type": "code",
   "execution_count": 11,
   "metadata": {},
   "outputs": [],
   "source": [
    "!pip instal numba"
   ]
  },
  {
   "cell_type": "code",
   "execution_count": 12,
   "metadata": {},
   "outputs": [],
   "source": [
    "from time import perf_counter\n",
    "from numba import jit  # jitを使うのに必要なコード\n",
    "\n",
    "\n",
    "def many_nest():\n",
    "    for first in range(1000):\n",
    "        for second in range(500):\n",
    "            for third in range(500):\n",
    "                huga = first * second\n",
    "                if huga != second * 5:\n",
    "                    hoge = third\n",
    "                else:\n",
    "                    hoge = first\n",
    "\n",
    "\n",
    "@jit  # jitを使うのに必要なコード\n",
    "def many_nest_jit():\n",
    "    for first in range(1000):\n",
    "        for second in range(500):\n",
    "            for third in range(500):\n",
    "                huga = first * second\n",
    "                if huga != second * 5:\n",
    "                    hoge = third\n",
    "                else:\n",
    "                    hoge = first\n"
   ]
  },
  {
   "cell_type": "code",
   "execution_count": 13,
   "metadata": {},
   "outputs": [
    {
     "name": "stdout",
     "output_type": "stream",
     "text": [
      "処理時間： 62.78008020000016 秒\n"
     ]
    }
   ],
   "source": [
    "begin1 = perf_counter()\n",
    "\n",
    "many_nest()\n",
    "\n",
    "end1 = perf_counter()\n",
    "print(\"処理時間：\", end1 - begin1, \"秒\")\n"
   ]
  },
  {
   "cell_type": "code",
   "execution_count": 14,
   "metadata": {},
   "outputs": [
    {
     "name": "stdout",
     "output_type": "stream",
     "text": [
      "処理時間： 0.23307340000019394 秒\n"
     ]
    }
   ],
   "source": [
    "begin2 = perf_counter()\n",
    "\n",
    "many_nest_jit()\n",
    "\n",
    "end2 = perf_counter()\n",
    "print(\"処理時間：\", end2 - begin2, \"秒\")\n"
   ]
  },
  {
   "cell_type": "code",
   "execution_count": 15,
   "metadata": {},
   "outputs": [
    {
     "name": "stdout",
     "output_type": "stream",
     "text": [
      "jitを利用したことによる高速化 269.3575508828889 倍\n"
     ]
    }
   ],
   "source": [
    "print(\"jitを利用したことによる高速化\", (end1 - begin1) / (end2 - begin2), \"倍\")\n"
   ]
  },
  {
   "cell_type": "code",
   "execution_count": null,
   "metadata": {},
   "outputs": [],
   "source": []
  }
 ],
 "metadata": {
  "interpreter": {
   "hash": "6e8337386a09f3e9da107d82f3b7d4d547cb39f0fa1e32022713913d2edd8113"
  },
  "kernelspec": {
   "display_name": "Python 3.8.8 64-bit ('base': conda)",
   "language": "python",
   "name": "python3"
  },
  "language_info": {
   "codemirror_mode": {
    "name": "ipython",
    "version": 3
   },
   "file_extension": ".py",
   "mimetype": "text/x-python",
   "name": "python",
   "nbconvert_exporter": "python",
   "pygments_lexer": "ipython3",
   "version": "3.8.8"
  },
  "orig_nbformat": 4
 },
 "nbformat": 4,
 "nbformat_minor": 2
}
